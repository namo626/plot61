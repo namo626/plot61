{
 "cells": [
  {
   "cell_type": "code",
   "execution_count": 2,
   "id": "023a5a08",
   "metadata": {},
   "outputs": [],
   "source": [
    "import numpy as np\n",
    "import matplotlib\n",
    "import matplotlib.pyplot as plt\n",
    "\n",
    "plt.style.use('seaborn-talk')\n",
    "plt.rcParams['lines.linewidth'] = 1\n",
    "plt.rcParams['figure.figsize'] = [10, 5]\n",
    "plt.rc('font',**{'family':'sans-serif','sans-serif':['Liberation Sans']})\n",
    "\n",
    "\n",
    "def getStation(file1, st):\n",
    "    elev1 = []\n",
    "    \n",
    "    with open(file1) as f1:\n",
    "        l1 = f1.readline()\n",
    "        l1 = f1.readline()\n",
    "        \n",
    "        # Get timestep info\n",
    "        info = l1.split()\n",
    "        skip = float(info[3])\n",
    "        dt = float(info[2]) / skip\n",
    "        \n",
    "        l1 = f1.readline()\n",
    "\n",
    "        for lineno, line in enumerate(f1):\n",
    "            lines = line.split()\n",
    "            if lines[0] == str(st):\n",
    "                x = float(lines[1])\n",
    "                \n",
    "                # If dry, set to zero\n",
    "                if x < -100:\n",
    "                    x = 0.\n",
    "                    \n",
    "                elev1.append(x)\n",
    "\n",
    "    time = np.arange(len(elev1))*dt*skip/86400.\n",
    "\n",
    "    return time, np.array(elev1)\n",
    "\n",
    "def getGauge(root, gauges, gauge, dt=3600, offset=12):\n",
    "    elev = []\n",
    "    file = root + '/' + gauges[gauge][0] + \".csv\"\n",
    "    \n",
    "    with open(file) as f1:\n",
    "        l1 = f1.readline()\n",
    "        for lineno, line in enumerate(f1):\n",
    "            lines = line.split(',')\n",
    "            #print(lines[-1])\n",
    "            if lines[-1].rstrip() == '\\\"-\\\"':\n",
    "                #break\n",
    "                #if '-' not in lines[-2]:\n",
    "                if lines[-2] == '\\\"-\\\"':\n",
    "                    elev.append(np.nan)\n",
    "                else:\n",
    "                    l = lines[-2].strip('\\\"')\n",
    "                #print(l)\n",
    "                    elev.append(float(l))\n",
    "            else:\n",
    "                elev.append(float(lines[-1].rstrip().strip('\\\"')))\n",
    "\n",
    "    of = int(offset*60*60/dt)\n",
    "    elev = elev[of:]\n",
    "    time = np.arange(len(elev))*dt/86400.\n",
    "    return time, elev\n",
    "\n",
    "\n",
    "class Storm():\n",
    "    def __init__(self, root, files, gauges):\n",
    "        self.root = root\n",
    "        self.files = files\n",
    "        self.gauges = gauges\n",
    "        \n",
    "    def plot(self, station, *args, plot_gauge=True, dt=3600, offset=12, timeframe=[]):\n",
    "        self.f = plt.figure()\n",
    "        if args:\n",
    "            keys = args\n",
    "        else:\n",
    "            keys = self.files.keys()\n",
    "            \n",
    "        \n",
    "                \n",
    "        for key in keys:\n",
    "            time, elev = getStation(self.root + '/' + key, station)\n",
    "            if timeframe:\n",
    "                id1 = (np.abs(time - timeframe[0])).argmin()\n",
    "                id2 = (np.abs(time - timeframe[1])).argmin()\n",
    "            else:\n",
    "                id1 = 0\n",
    "                id2 = None\n",
    "           \n",
    "            plt.plot(time[id1:id2], elev[id1:id2], label=self.files[key])\n",
    "            \n",
    "        # Check of gauge exists\n",
    "        if station in self.gauges:\n",
    "            plt.title(self.gauges[station][1])\n",
    "            \n",
    "        # If we have gauge data, plot it too\n",
    "        if plot_gauge:\n",
    "            try:\n",
    "                time, elev = getGauge(self.root, self.gauges, station, dt=dt, offset=offset)\n",
    "            except:\n",
    "                pass\n",
    "            else:\n",
    "                if timeframe:\n",
    "                    id1 = (np.abs(time - timeframe[0])).argmin()\n",
    "                    id2 = (np.abs(time - timeframe[1])).argmin()\n",
    "                else:\n",
    "                    id1 = 0\n",
    "                    id2 = None\n",
    "                plt.plot(time[id1:id2:3], elev[id1:id2:3], '--', markersize=7, label='Gauge data')\n",
    "            \n",
    "        plt.legend(loc='best', framealpha=0.0)\n",
    "        plt.xlabel('time (days)', fontsize=15)\n",
    "        plt.ylabel('Surface elevation (m)', fontsize=15)\n",
    "        plt.xticks(fontsize=13)\n",
    "        plt.yticks(fontsize=13)\n",
    "        plt.show()\n",
    "    \n",
    "    def save(self, name):\n",
    "        self.f.savefig(name, dpi=300)\n",
    "        \n",
    "    def export(self, station):\n",
    "        for key in self.files.keys():\n",
    "            time, elev = getStation(self.root + '/' + key, station)\n",
    "            np.savetxt('%s/%s_%s.csv' % (self.root, key, self.gauges[station][0]), np.vstack((time,elev)).T)"
   ]
  },
  {
   "cell_type": "markdown",
   "id": "9293f29c",
   "metadata": {},
   "source": [
    "## List of gauges for different datasets\n",
    "Format:\n",
    "\n",
    "    { n : (csv_name, plot_name) }\n",
    "    \n",
    "where\n",
    "\n",
    "    n = gauge number\n",
    "    csv_name = name of the csv gauge data that was downloaded\n",
    "    plot_name = name that will be used to label gauge data in the plot"
   ]
  },
  {
   "cell_type": "code",
   "execution_count": 3,
   "id": "b99d1e96",
   "metadata": {},
   "outputs": [],
   "source": [
    "# Cut mesh\n",
    "gauges1 = {\n",
    "    2:(\"pier_21\", \"Galveston Pier 21\"),\n",
    "    56: (\"uss_lexington\", \"USS Lexington\"),\n",
    "    162: (\"south_bird\", \"South Bird Island\"),\n",
    "    52: (\"north_jetty\", \"Galveston Entrance North Jetty\"),\n",
    "    3: (\"pleasure_pier\", \"Galveston Pleasure Pier\"),\n",
    "    80: (\"sss_tx_har_002\", \"SSS-TX-HAR-002\"),\n",
    "    33: (\"port_aransas\", \"Port Aransas\"),\n",
    "    161: (\"bob_hall\", \"Bob Hall Pier\"),\n",
    "    126: (\"lamarque_pump\", \"La Marque Pump Station\"),\n",
    "    42: (\"realitos\", \"Realitos Peninsula\"),\n",
    "    59: (\"viola\", \"Viola Turning Basin\"),\n",
    "    40: (\"baffin_bay\", \"Baffin Bay\"),\n",
    "    48: (\"manchester\", \"Manchester Houston\"),\n",
    "    4: (\"rockport\", \"Rockport\"),\n",
    "    57: (\"sargent\", \"Sargent\"),\n",
    "    44: (\"matagorda\", \"Matagorda\"),\n",
    "    47: (\"san_luis\", \"San Luis Pass\"),\n",
    "    1: (\"morgans_point\", \"Morgans Point\"),\n",
    "    45: (\"aransas_wildlife\", \"Aransas Wildlife Refuge\"),\n",
    "    8: (\"calcasieu_pass\", \"Calcasieu Pass\"),\n",
    "    196: (\"port_fourchon\", \"Port Fourchon\"),\n",
    "    169: (\"pilots\", \"Pilots Station\"),\n",
    "    199: (\"freshwater_canal\", \"Freshwater Canal Locks\"),\n",
    "    41: (\"sabine_pass\", \"Texas Point, Sabine Pass\"),\n",
    "    197: (\"amerada_pass\", \"LAWMA, Amerada Pass\"),\n",
    "    50: (\"rollover_pass\", \"Rollover Pass\"),\n",
    "    193: (\"shell_beach\", \"Shell Beach\")\n",
    "}\n",
    "\n",
    "\n",
    "# Neches\n",
    "gauges2 = {\n",
    "    39: (\"beaumont_club\", \"Beaumont Yacht Club\"),\n",
    "    38: (\"sabine_north\", \"Sabine Pass North\"),\n",
    "    24: (\"sabine_ras_5\", \"Sabine RAS 5\"),\n",
    "    37: (\"rainbow_bridge\", \"Rainbow Bridge\"),\n",
    "    40: (\"saltwater_barrier\", \"Salt Water Barrier\")\n",
    "}"
   ]
  },
  {
   "cell_type": "markdown",
   "id": "9a03ccd2",
   "metadata": {},
   "source": [
    "## 1. Define station, gauges, root file path, and filenames with labels\n",
    "Usage: Define a Storm object for a single directory\n",
    "\n",
    "    storm1 = Storm(directory_name, filenames, gauges)\n",
    "    \n",
    "where\n",
    "\n",
    "    directory_name = string of FULL root folder path (no trailing slash)\n",
    "    filenames      = dict of format {fort.61 file: plot label}\n",
    "    gauges         = a dict of gauges defined in the previous cell"
   ]
  },
  {
   "cell_type": "code",
   "execution_count": 4,
   "id": "d1332f0c",
   "metadata": {},
   "outputs": [],
   "source": [
    "\n",
    "ike30m = Storm('/workspace/Ike-30m',\n",
    "              {\"fort.61.full\": \"30m full\",\n",
    "              \"fort.61.2008\": \"2008 mesh, no advection\",\n",
    "              \"fort.61.half\": \"30m cut, reduced manning's n\",\n",
    "               \"fort.61.noadv\": \"30m cut, no advection\",\n",
    "               \"fort.61.adv\": \"30m cut\",\n",
    "              \"fort.61.v3\": \"30m cut v3\",\n",
    "              \"fort.61.v4\": \"30m cut v4\",\n",
    "               \"fort.61.v5\": \"30m cut, 2008 manning's n\",\n",
    "              \"fort.61.v5.noadv\": \"30m cut, 2008 manning's n, no advection\"},\n",
    "              gauges1)\n",
    "\n",
    "harvey_rain = Storm('/workspace/Harvey-rain',\n",
    "                   {\"fort.61.rain\": \"DG rain\",\n",
    "                    \"fort.61.norain\": \"DG no rain\",\n",
    "                    \"fort.61.adc\": \"ADCIRC\",\n",
    "                    \"fort.61.2008.storm\": \"2008 mesh\",\n",
    "                    \"fort.61.adc.storm\": \"ADCIRC (no spinup)\",\n",
    "                    \"fort.61.2008.norain\": \"2008 mesh\",\n",
    "                    \"fort.61.2008.rain\": \"2008 mesh + rain\"},\n",
    "                   gauges1)\n",
    "harvey_spinup = Storm('workspace/Harvey-rain/spinup',\n",
    "                     {\"fort.61.2008.spinup\": \"2008 spinup, LLF flux\",\n",
    "                     \"fort.61.dg\": \"120m spinup, Roe flux\",\n",
    "                      \"fort.61.2008.spinup2\": \"2008 spinup 2\",\n",
    "                     \"fort.61.adc\": \"120m spinup, ADCIRC\"},\n",
    "                     gauges1)\n",
    "musikal = Storm('/workspace/musikal',\n",
    "               {\"fort.61\": \"Tides only\"},\n",
    "               gauges1)\n",
    "marite_rain = Storm('/workspace/marite-rain',\n",
    "                   {\"fort.61.rain\": \"ADCIRC + rain on wet elements\"},\n",
    "                   gauges1)"
   ]
  },
  {
   "cell_type": "markdown",
   "id": "5b46f456",
   "metadata": {},
   "source": [
    "# Step 2: Plot the data\n",
    "Usage: use the Storm.plot() method to plot a specified station data, optionally specifying which fort.61 files to plot\n",
    "\n",
    "    storm1.plot(gauge_num, file1, file2, ..., plot_gauge=False, dt=360)\n",
    "    \n",
    "where\n",
    "\n",
    "    gauge_num = gauge number\n",
    "    fileN     = name of the fort.61 file to plot. If omitted it will plot all in the dict.\n",
    "    plot_gauge = whether to plot gauge data or not\n",
    "    dt         = offset in minutes for gauge data"
   ]
  },
  {
   "cell_type": "code",
   "execution_count": 10,
   "id": "9b290d02",
   "metadata": {
    "scrolled": true
   },
   "outputs": [
    {
     "data": {
      "image/png": "[encoded data removed]",
      "text/plain": [
       "<Figure size 720x360 with 1 Axes>"
      ]
     },
     "metadata": {
      "needs_background": "light"
     },
     "output_type": "display_data"
    }
   ],
   "source": [
    "harvey_rain.plot(48, \"fort.61.norain\",\"fort.61.rain\",plot_gauge=True)\n",
    "#ike30m.plot(197,\"fort.61.2008\",\"fort.61.adv\",\"fort.61.noadv\",\"fort.61.v5\",\"fort.61.v5.noadv\",plot_gauge=True,dt=360,\n",
    "           #timeframe=[6,8.5])\n",
    "#harvey_spinup.plot(161,\"fort.61.2008.spinup2\",offset=0)\n",
    "#musikal.plot(3)\n",
    "#marite_rain.plot(44)"
   ]
  },
  {
   "cell_type": "markdown",
   "id": "1e4bc79e",
   "metadata": {},
   "source": [
    "# Step 3: save the plot and/or export fort.61 files to CSV\n",
    "Usage:\n",
    "\n",
    "    storm1.save(filepath)       - save the figure in filepath\n",
    "    storm1.export(station)      - save all fort.61 data as CSV, appending station name and '.csv'\n",
    "    \n",
    "   "
   ]
  },
  {
   "cell_type": "code",
   "execution_count": 150,
   "id": "074599c8",
   "metadata": {},
   "outputs": [],
   "source": [
    "ike30m.save('../Ike-30m/amerada_pass_zoom.png')\n",
    "#harvey_rain.save('/workspace/Harvey-rain/matagorda.png')"
   ]
  },
  {
   "cell_type": "code",
   "execution_count": 173,
   "id": "f621b342",
   "metadata": {},
   "outputs": [],
   "source": [
    "ike30m.export(48)"
   ]
  },
  {
   "cell_type": "code",
   "execution_count": 170,
   "id": "94d2f458",
   "metadata": {},
   "outputs": [
    {
     "data": {
      "text/plain": [
       "'/workspace/chg'"
      ]
     },
     "execution_count": 170,
     "metadata": {},
     "output_type": "execute_result"
    }
   ],
   "source": [
    "if []:\n",
    "    print 'False'"
   ]
  },
  {
   "cell_type": "code",
   "execution_count": 112,
   "id": "e74ce79c",
   "metadata": {},
   "outputs": [
    {
     "ename": "ValueError",
     "evalue": "could not convert string to float: '-'",
     "output_type": "error",
     "traceback": [
      "\u001b[0;31m---------------------------------------------------------------------------\u001b[0m",
      "\u001b[0;31mValueError\u001b[0m                                Traceback (most recent call last)",
      "\u001b[0;32m<ipython-input-112-3ac1bda17132>\u001b[0m in \u001b[0;36m<module>\u001b[0;34m\u001b[0m\n\u001b[0;32m----> 1\u001b[0;31m \u001b[0mt\u001b[0m\u001b[0;34m,\u001b[0m \u001b[0me\u001b[0m \u001b[0;34m=\u001b[0m \u001b[0mgetGauge\u001b[0m\u001b[0;34m(\u001b[0m\u001b[0;34m'/workspace/Ike-30m'\u001b[0m\u001b[0;34m,\u001b[0m \u001b[0mgauges1\u001b[0m\u001b[0;34m,\u001b[0m \u001b[0;36m50\u001b[0m\u001b[0;34m)\u001b[0m\u001b[0;34m\u001b[0m\u001b[0;34m\u001b[0m\u001b[0m\n\u001b[0m",
      "\u001b[0;32m<ipython-input-109-e21f617fea66>\u001b[0m in \u001b[0;36mgetGauge\u001b[0;34m(root, gauges, gauge, dt, offset)\u001b[0m\n\u001b[1;32m     57\u001b[0m                     \u001b[0melev\u001b[0m\u001b[0;34m.\u001b[0m\u001b[0mappend\u001b[0m\u001b[0;34m(\u001b[0m\u001b[0mfloat\u001b[0m\u001b[0;34m(\u001b[0m\u001b[0ml\u001b[0m\u001b[0;34m)\u001b[0m\u001b[0;34m)\u001b[0m\u001b[0;34m\u001b[0m\u001b[0;34m\u001b[0m\u001b[0m\n\u001b[1;32m     58\u001b[0m             \u001b[0;32melse\u001b[0m\u001b[0;34m:\u001b[0m\u001b[0;34m\u001b[0m\u001b[0;34m\u001b[0m\u001b[0m\n\u001b[0;32m---> 59\u001b[0;31m                 \u001b[0melev\u001b[0m\u001b[0;34m.\u001b[0m\u001b[0mappend\u001b[0m\u001b[0;34m(\u001b[0m\u001b[0mfloat\u001b[0m\u001b[0;34m(\u001b[0m\u001b[0mlines\u001b[0m\u001b[0;34m[\u001b[0m\u001b[0;34m-\u001b[0m\u001b[0;36m1\u001b[0m\u001b[0;34m]\u001b[0m\u001b[0;34m.\u001b[0m\u001b[0mrstrip\u001b[0m\u001b[0;34m(\u001b[0m\u001b[0;34m)\u001b[0m\u001b[0;34m.\u001b[0m\u001b[0mstrip\u001b[0m\u001b[0;34m(\u001b[0m\u001b[0;34m'\\\"'\u001b[0m\u001b[0;34m)\u001b[0m\u001b[0;34m)\u001b[0m\u001b[0;34m)\u001b[0m\u001b[0;34m\u001b[0m\u001b[0;34m\u001b[0m\u001b[0m\n\u001b[0m\u001b[1;32m     60\u001b[0m \u001b[0;34m\u001b[0m\u001b[0m\n\u001b[1;32m     61\u001b[0m     \u001b[0mof\u001b[0m \u001b[0;34m=\u001b[0m \u001b[0mint\u001b[0m\u001b[0;34m(\u001b[0m\u001b[0moffset\u001b[0m\u001b[0;34m*\u001b[0m\u001b[0;36m60\u001b[0m\u001b[0;34m*\u001b[0m\u001b[0;36m60\u001b[0m\u001b[0;34m/\u001b[0m\u001b[0mdt\u001b[0m\u001b[0;34m)\u001b[0m\u001b[0;34m\u001b[0m\u001b[0;34m\u001b[0m\u001b[0m\n",
      "\u001b[0;31mValueError\u001b[0m: could not convert string to float: '-'"
     ]
    }
   ],
   "source": [
    "t, e = getGauge('/workspace/Ike-30m', gauges1, 50)"
   ]
  },
  {
   "cell_type": "code",
   "execution_count": 69,
   "id": "f79cfe63",
   "metadata": {},
   "outputs": [],
   "source": [
    "s = \"\\\"0.255\\\"\""
   ]
  },
  {
   "cell_type": "code",
   "execution_count": 70,
   "id": "e7992448",
   "metadata": {},
   "outputs": [
    {
     "name": "stdout",
     "output_type": "stream",
     "text": [
      "\"0.255\"\n"
     ]
    }
   ],
   "source": [
    "print(s)"
   ]
  },
  {
   "cell_type": "code",
   "execution_count": 71,
   "id": "29dc649f",
   "metadata": {},
   "outputs": [
    {
     "data": {
      "text/plain": [
       "'0.255'"
      ]
     },
     "execution_count": 71,
     "metadata": {},
     "output_type": "execute_result"
    }
   ],
   "source": [
    "s[1:-1]"
   ]
  },
  {
   "cell_type": "code",
   "execution_count": null,
   "id": "05d303b9",
   "metadata": {},
   "outputs": [],
   "source": []
  }
 ],
 "metadata": {
  "kernelspec": {
   "display_name": "Python 3",
   "language": "python",
   "name": "python3"
  },
  "language_info": {
   "codemirror_mode": {
    "name": "ipython",
    "version": 3
   },
   "file_extension": ".py",
   "mimetype": "text/x-python",
   "name": "python",
   "nbconvert_exporter": "python",
   "pygments_lexer": "ipython3",
   "version": "3.9.7"
  }
 },
 "nbformat": 4,
 "nbformat_minor": 5
}
